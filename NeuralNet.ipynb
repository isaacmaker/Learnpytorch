{
  "nbformat": 4,
  "nbformat_minor": 0,
  "metadata": {
    "colab": {
      "provenance": [],
      "authorship_tag": "ABX9TyM0FSwj3+47RQikQ8vLf9Nv",
      "include_colab_link": true
    },
    "kernelspec": {
      "name": "python3",
      "display_name": "Python 3"
    },
    "language_info": {
      "name": "python"
    }
  },
  "cells": [
    {
      "cell_type": "markdown",
      "metadata": {
        "id": "view-in-github",
        "colab_type": "text"
      },
      "source": [
        "<a href=\"https://colab.research.google.com/github/isaacmaker/Learnpytorch/blob/main/NeuralNet.ipynb\" target=\"_parent\"><img src=\"https://colab.research.google.com/assets/colab-badge.svg\" alt=\"Open In Colab\"/></a>"
      ]
    },
    {
      "cell_type": "code",
      "source": [
        "import torch.nn as nn\n",
        "import torch\n",
        "import torch.nn.functional as F\n",
        "import matplotlib.pyplot as plt\n",
        "%matplotlib inline\n",
        "import pandas as pd"
      ],
      "metadata": {
        "id": "wms0kMOgLdyC"
      },
      "execution_count": 1,
      "outputs": []
    },
    {
      "cell_type": "code",
      "source": [
        "import torch.nn as nn\n",
        "import torch.nn.functional as F\n",
        "\n",
        "class Model(nn.Module):\n",
        "  def __init__(self,in_features=4,h1=8,h2=9,out_features=3): # Changed in_features to 5\n",
        "    super().__init__()\n",
        "    self.fc1 = nn.Linear(in_features,h1)\n",
        "    self.fc2 = nn.Linear(h1,h2)\n",
        "    self.out = nn.Linear(h2,out_features)\n",
        "\n",
        "  def forward(self,x):\n",
        "    x = F.relu(self.fc1(x))\n",
        "    x = F.relu(self.fc2(x)) # Changed to self.fc2\n",
        "    x = self.out(x)\n",
        "\n",
        "    return x"
      ],
      "metadata": {
        "id": "xIjC5IXNM2Of"
      },
      "execution_count": 2,
      "outputs": []
    },
    {
      "cell_type": "code",
      "source": [
        "torch.manual_seed(41)\n",
        "model = Model()"
      ],
      "metadata": {
        "id": "_YNJnrjYSA7V"
      },
      "execution_count": 3,
      "outputs": []
    },
    {
      "cell_type": "code",
      "source": [
        "url =\"https://gist.githubusercontent.com/netj/8836201/raw/6f9306ad21398ea43cba4f7d537619d0e07d5ae3/iris.csv\"\n",
        "my_df = pd.read_csv(url)\n",
        "my_df[\"variety\"] = my_df[\"variety\"].replace(\"Setosa\",0.0)\n",
        "my_df[\"variety\"] = my_df[\"variety\"].replace(\"Versicolor\",1.0)\n",
        "my_df[\"variety\"] = my_df[\"variety\"].replace(\"Virginica\",2.0)"
      ],
      "metadata": {
        "id": "byEA4AHxSf0k"
      },
      "execution_count": 4,
      "outputs": []
    },
    {
      "cell_type": "code",
      "source": [
        "X = my_df.drop(\"variety\",axis=1)\n",
        "y = my_df[\"variety\"]\n"
      ],
      "metadata": {
        "id": "VBdbyOAyXD1u"
      },
      "execution_count": 5,
      "outputs": []
    },
    {
      "cell_type": "code",
      "source": [
        "X = X.values\n",
        "X\n",
        "y = y.values"
      ],
      "metadata": {
        "id": "dGV3Ou1MYdAi"
      },
      "execution_count": 6,
      "outputs": []
    },
    {
      "cell_type": "code",
      "source": [
        "from sklearn.model_selection import train_test_split"
      ],
      "metadata": {
        "id": "CjI0nxcPYovy"
      },
      "execution_count": 7,
      "outputs": []
    },
    {
      "cell_type": "code",
      "source": [
        "X_train, X_test, y_train, y_test = train_test_split(X,y, test_size=0.2,random_state=41)"
      ],
      "metadata": {
        "id": "9npsvX7XY0rl"
      },
      "execution_count": 8,
      "outputs": []
    },
    {
      "cell_type": "code",
      "source": [
        "X_train = torch.FloatTensor(X_train)\n",
        "X_train\n",
        "X_test = torch.FloatTensor(X_test)"
      ],
      "metadata": {
        "id": "tNF8iDFQahto"
      },
      "execution_count": 9,
      "outputs": []
    },
    {
      "cell_type": "code",
      "source": [
        "y_train = torch.LongTensor(y_train)\n",
        "y_test = torch.LongTensor(y_test)"
      ],
      "metadata": {
        "id": "KD9yK_Q7bACd"
      },
      "execution_count": 10,
      "outputs": []
    },
    {
      "cell_type": "code",
      "source": [
        "criterion = nn.CrossEntropyLoss()\n",
        "opt = torch.optim.Adam(model.parameters(),lr=0.01)"
      ],
      "metadata": {
        "id": "5ljWEHoVx9uz"
      },
      "execution_count": 11,
      "outputs": []
    },
    {
      "cell_type": "code",
      "source": [],
      "metadata": {
        "id": "yy2DZdJ-j3Ri"
      },
      "execution_count": 11,
      "outputs": []
    },
    {
      "cell_type": "code",
      "source": [
        "epochs = 500\n",
        "losses = []\n",
        "for i in range(epochs):\n",
        "  y_pred = model.forward(X_train)\n",
        "  loss = criterion(y_pred,y_train)\n",
        "  losses.append(loss.detach().numpy())\n",
        "  percentage_value = loss\n",
        "  loss\n",
        "  per2 = percentage_value.item()\n",
        "  if i%10 == 0:\n",
        "    print(f\"Epoch: {i} Loss: {per2}'%\")\n",
        "  # set gradients to zero\n",
        "  opt.zero_grad()\n",
        "\n",
        "  # calculate the gradients\n",
        "  loss.backward()\n",
        "\n",
        "  # update the weights\n",
        "  opt.step()\n"
      ],
      "metadata": {
        "id": "ptMRWKCoiWTu",
        "colab": {
          "base_uri": "https://localhost:8080/"
        },
        "outputId": "a302178b-4e49-410a-a323-d9829640de6e"
      },
      "execution_count": 12,
      "outputs": [
        {
          "output_type": "stream",
          "name": "stdout",
          "text": [
            "Epoch: 0 Loss: 1.125203251838684'%\n",
            "Epoch: 10 Loss: 1.0097211599349976'%\n",
            "Epoch: 20 Loss: 0.8162347674369812'%\n",
            "Epoch: 30 Loss: 0.585993230342865'%\n",
            "Epoch: 40 Loss: 0.4003389775753021'%\n",
            "Epoch: 50 Loss: 0.26794716715812683'%\n",
            "Epoch: 60 Loss: 0.1796349585056305'%\n",
            "Epoch: 70 Loss: 0.12165623158216476'%\n",
            "Epoch: 80 Loss: 0.0860651507973671'%\n",
            "Epoch: 90 Loss: 0.06522614508867264'%\n",
            "Epoch: 100 Loss: 0.05286872014403343'%\n",
            "Epoch: 110 Loss: 0.04508011043071747'%\n",
            "Epoch: 120 Loss: 0.03979310765862465'%\n",
            "Epoch: 130 Loss: 0.03596426919102669'%\n",
            "Epoch: 140 Loss: 0.03302799537777901'%\n",
            "Epoch: 150 Loss: 0.030512524768710136'%\n",
            "Epoch: 160 Loss: 0.02773350290954113'%\n",
            "Epoch: 170 Loss: 0.024612102657556534'%\n",
            "Epoch: 180 Loss: 0.02167237363755703'%\n",
            "Epoch: 190 Loss: 0.01932021789252758'%\n",
            "Epoch: 200 Loss: 0.0174928717315197'%\n",
            "Epoch: 210 Loss: 0.01604374870657921'%\n",
            "Epoch: 220 Loss: 0.01483999565243721'%\n",
            "Epoch: 230 Loss: 0.013800058513879776'%\n",
            "Epoch: 240 Loss: 0.012878856621682644'%\n",
            "Epoch: 250 Loss: 0.012144574895501137'%\n",
            "Epoch: 260 Loss: 0.011606554500758648'%\n",
            "Epoch: 270 Loss: 0.010983292944729328'%\n",
            "Epoch: 280 Loss: 0.010267996229231358'%\n",
            "Epoch: 290 Loss: 0.00971288699656725'%\n",
            "Epoch: 300 Loss: 0.009499614126980305'%\n",
            "Epoch: 310 Loss: 0.008920922875404358'%\n",
            "Epoch: 320 Loss: 0.008430850692093372'%\n",
            "Epoch: 330 Loss: 0.007952299900352955'%\n",
            "Epoch: 340 Loss: 0.007868134416639805'%\n",
            "Epoch: 350 Loss: 0.007325956132262945'%\n",
            "Epoch: 360 Loss: 0.006909631658345461'%\n",
            "Epoch: 370 Loss: 0.006585904397070408'%\n",
            "Epoch: 380 Loss: 0.006259348709136248'%\n",
            "Epoch: 390 Loss: 0.0063474178314208984'%\n",
            "Epoch: 400 Loss: 0.006240826565772295'%\n",
            "Epoch: 410 Loss: 0.00572382053360343'%\n",
            "Epoch: 420 Loss: 0.005300221499055624'%\n",
            "Epoch: 430 Loss: 0.005125891882926226'%\n",
            "Epoch: 440 Loss: 0.004919005557894707'%\n",
            "Epoch: 450 Loss: 0.0047289058566093445'%\n",
            "Epoch: 460 Loss: 0.00455176318064332'%\n",
            "Epoch: 470 Loss: 0.004382995888590813'%\n",
            "Epoch: 480 Loss: 0.004220409784466028'%\n",
            "Epoch: 490 Loss: 0.004064778331667185'%\n"
          ]
        }
      ]
    },
    {
      "cell_type": "code",
      "source": [
        "plt.plot(range(epochs),losses)\n",
        "plt.ylabel(\"Error\")\n",
        "plt.xlabel(\"Epochs\")"
      ],
      "metadata": {
        "colab": {
          "base_uri": "https://localhost:8080/",
          "height": 467
        },
        "id": "yGIKH45ViuYV",
        "outputId": "9be4ab33-882f-4c58-83c1-b92d5a813b9b"
      },
      "execution_count": 13,
      "outputs": [
        {
          "output_type": "execute_result",
          "data": {
            "text/plain": [
              "Text(0.5, 0, 'Epochs')"
            ]
          },
          "metadata": {},
          "execution_count": 13
        },
        {
          "output_type": "display_data",
          "data": {
            "text/plain": [
              "<Figure size 640x480 with 1 Axes>"
            ],
            "image/png": "[encoded data removed]"
          },
          "metadata": {}
        }
      ]
    },
    {
      "cell_type": "code",
      "source": [
        "with torch.no_grad():\n",
        "  y_eval = model.forward(X_test)\n",
        "  loss = criterion(y_eval,y_test)"
      ],
      "metadata": {
        "id": "RePoKqRpiyTg"
      },
      "execution_count": 14,
      "outputs": []
    },
    {
      "cell_type": "code",
      "source": [
        "loss"
      ],
      "metadata": {
        "colab": {
          "base_uri": "https://localhost:8080/"
        },
        "id": "NFe2eMGJk7cX",
        "outputId": "3b88e4cf-5179-4362-c57d-c7946fb5fb56"
      },
      "execution_count": 15,
      "outputs": [
        {
          "output_type": "execute_result",
          "data": {
            "text/plain": [
              "tensor(0.4284)"
            ]
          },
          "metadata": {},
          "execution_count": 15
        }
      ]
    },
    {
      "cell_type": "code",
      "source": [
        "correct = 0\n",
        "with torch.no_grad():\n",
        "  for i,data in enumerate(X_test):+\n",
        "\n",
        "    y_val = model.forward(data)\n",
        "    print(f\"{i+1} {str(y_val)} \\t {y_test[i]}\")\n",
        "\n",
        "    if y_val.argmax().item() == y_test[i]:\n",
        "      correct += 1\n",
        "print(f\"Accuracy: {correct/len(y_test)}\",\"correct\",correct)\n"
      ],
      "metadata": {
        "colab": {
          "base_uri": "https://localhost:8080/"
        },
        "id": "dYKTfJJbk8x3",
        "outputId": "7f9ff523-084c-446d-8de2-ba6d7f0e9c45"
      },
      "execution_count": 16,
      "outputs": [
        {
          "output_type": "stream",
          "name": "stdout",
          "text": [
            "1 tensor([-8.2336,  1.1611, 14.8379]) \t 2\n",
            "2 tensor([-11.4864,  -2.9688,  23.8727]) \t 2\n",
            "3 tensor([-13.1540,  -2.6258,  26.3003]) \t 2\n",
            "4 tensor([  4.4491,  16.4351, -10.4554]) \t 1\n",
            "5 tensor([-11.0531,  -0.9241,  20.9731]) \t 2\n",
            "6 tensor([ 10.5526,  21.9904, -21.0539]) \t 1\n",
            "7 tensor([-6.6075,  3.7984, 11.4673]) \t 2\n",
            "8 tensor([  4.9884,  17.1023, -11.5365]) \t 1\n",
            "9 tensor([-9.4947,  0.8017, 17.1606]) \t 2\n",
            "10 tensor([-12.2819,  -3.2382,  25.4975]) \t 2\n",
            "11 tensor([-5.1056,  5.3112,  8.5358]) \t 2\n",
            "12 tensor([ 54.4761,  43.9803, -77.7899]) \t 0\n",
            "13 tensor([ 49.3894,  39.7829, -70.4471]) \t 0\n",
            "14 tensor([ 13.2979,  20.8678, -23.4904]) \t 1\n",
            "15 tensor([ 47.2268,  39.7901, -68.2106]) \t 0\n",
            "16 tensor([-2.9112,  7.9908,  4.1723]) \t 2\n",
            "17 tensor([ 49.8759,  40.5112, -71.3275]) \t 0\n",
            "18 tensor([-6.7868,  2.9861, 11.9566]) \t 1\n",
            "19 tensor([ 56.9141,  45.3611, -80.9651]) \t 0\n",
            "20 tensor([ 43.3723,  36.0724, -62.4133]) \t 0\n",
            "21 tensor([ 12.4366,  21.4406, -22.8376]) \t 1\n",
            "22 tensor([-11.9045,  -2.1597,  23.7128]) \t 2\n",
            "23 tensor([ 47.7780,  40.0126, -68.8983]) \t 0\n",
            "24 tensor([ 52.4683,  42.2052, -74.8270]) \t 0\n",
            "25 tensor([ 13.1231,  22.4045, -24.0107]) \t 1\n",
            "26 tensor([ 10.0491,  21.1238, -20.1068]) \t 1\n",
            "27 tensor([ 3.5794, 15.8535, -8.7974]) \t 1\n",
            "28 tensor([ 12.2903,  22.0003, -22.9366]) \t 1\n",
            "29 tensor([ 54.0258,  43.5805, -77.1245]) \t 0\n",
            "30 tensor([ 2.6228, 14.2460, -6.8110]) \t 1\n",
            "Accuracy: 0.9333333333333333 correct 28\n"
          ]
        }
      ]
    },
    {
      "cell_type": "code",
      "source": [
        "new_iris = torch.tensor([2.7,15.2,12.3,0.2])"
      ],
      "metadata": {
        "id": "f3wssJEzlfy9"
      },
      "execution_count": 25,
      "outputs": []
    },
    {
      "cell_type": "code",
      "source": [
        "with torch.no_grad():\n",
        "  print(model.forward(new_iris))"
      ],
      "metadata": {
        "colab": {
          "base_uri": "https://localhost:8080/"
        },
        "id": "f7rCKibxn9ch",
        "outputId": "e254235f-5962-4333-9612-49bf68ff5d96"
      },
      "execution_count": 26,
      "outputs": [
        {
          "output_type": "stream",
          "name": "stdout",
          "text": [
            "tensor([ 29.6237,  24.7949, -42.5001])\n"
          ]
        }
      ]
    },
    {
      "cell_type": "markdown",
      "source": [],
      "metadata": {
        "id": "kR-YcRaVSkJb"
      }
    },
    {
      "cell_type": "code",
      "source": [
        "newr_iris = torch.tensor(([-2.7256, 12.7115, 15.2784,0.2]))"
      ],
      "metadata": {
        "id": "wPpYHwHmoE8p"
      },
      "execution_count": 21,
      "outputs": []
    },
    {
      "cell_type": "code",
      "source": [
        "with torch.no_grad():\n",
        "  print(model.forward(newr_iris))"
      ],
      "metadata": {
        "colab": {
          "base_uri": "https://localhost:8080/"
        },
        "id": "ipGUcjUopEOj",
        "outputId": "4fa62f83-d897-49a3-c753-f8f8069cc97f"
      },
      "execution_count": 22,
      "outputs": [
        {
          "output_type": "stream",
          "name": "stdout",
          "text": [
            "tensor([-2.7092, -2.9563, 10.8084])\n"
          ]
        }
      ]
    },
    {
      "cell_type": "code",
      "source": [],
      "metadata": {
        "id": "YE2Fr7F_pJkN"
      },
      "execution_count": null,
      "outputs": []
    }
  ]
}