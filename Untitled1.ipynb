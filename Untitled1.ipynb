{
  "nbformat": 4,
  "nbformat_minor": 0,
  "metadata": {
    "colab": {
      "provenance": [],
      "gpuType": "V28",
      "authorship_tag": "ABX9TyMGqPJ8VrtFIs/dE7aAFaFO",
      "include_colab_link": true
    },
    "kernelspec": {
      "name": "python3",
      "display_name": "Python 3"
    },
    "language_info": {
      "name": "python"
    },
    "accelerator": "TPU"
  },
  "cells": [
    {
      "cell_type": "markdown",
      "metadata": {
        "id": "view-in-github",
        "colab_type": "text"
      },
      "source": [
        "<a href=\"https://colab.research.google.com/github/isaacmaker/Learnpytorch/blob/main/Untitled1.ipynb\" target=\"_parent\"><img src=\"https://colab.research.google.com/assets/colab-badge.svg\" alt=\"Open In Colab\"/></a>"
      ]
    },
    {
      "cell_type": "code",
      "source": [
        "import torch.nn as nn\n",
        "import torch\n",
        "import torch.nn.functional as F\n",
        "import matplotlib.pyplot as plt\n",
        "%matplotlib inline\n",
        "import pandas as pd"
      ],
      "metadata": {
        "id": "wms0kMOgLdyC"
      },
      "execution_count": 1,
      "outputs": []
    },
    {
      "cell_type": "code",
      "source": [
        "import torch.nn as nn\n",
        "import torch.nn.functional as F\n",
        "\n",
        "class Model(nn.Module):\n",
        "  def __init__(self,in_features=5,h1=8,h2=9,out_features=3): # Changed in_features to 5\n",
        "    super().__init__()\n",
        "    self.fc1 = nn.Linear(in_features,h1)\n",
        "    self.fc2 = nn.Linear(h1,h2)\n",
        "    self.out = nn.Linear(h2,out_features)\n",
        "\n",
        "  def forward(self,x):\n",
        "    x = F.relu(self.fc1(x))\n",
        "    x = F.relu(self.fc2(x)) # Changed to self.fc2\n",
        "    x = self.out(x)\n",
        "\n",
        "    return x"
      ],
      "metadata": {
        "id": "xIjC5IXNM2Of"
      },
      "execution_count": 2,
      "outputs": []
    },
    {
      "cell_type": "code",
      "source": [
        "torch.manual_seed(41)\n",
        "model = Model()"
      ],
      "metadata": {
        "id": "_YNJnrjYSA7V"
      },
      "execution_count": 3,
      "outputs": []
    },
    {
      "cell_type": "code",
      "source": [
        "url =\"https://raw.githubusercontent.com/venky14/Machine-Learning-with-Iris-Dataset/master/Iris.csv\"\n",
        "my_df = pd.read_csv(url)\n",
        "my_df[\"Species\"] = my_df[\"Species\"].replace(\"Iris-setosa\",0.0)\n",
        "my_df[\"Species\"] = my_df[\"Species\"].replace(\"Iris-versicolor\",1.0)\n",
        "my_df[\"Species\"] = my_df[\"Species\"].replace(\"Iris-virginica\",2.0)"
      ],
      "metadata": {
        "id": "byEA4AHxSf0k"
      },
      "execution_count": 4,
      "outputs": []
    },
    {
      "cell_type": "code",
      "source": [
        "X = my_df.drop(\"Species\",axis=1)\n",
        "y = my_df[\"Species\"]\n"
      ],
      "metadata": {
        "id": "VBdbyOAyXD1u"
      },
      "execution_count": 5,
      "outputs": []
    },
    {
      "cell_type": "code",
      "source": [
        "X = X.values\n",
        "X\n",
        "y = y.values"
      ],
      "metadata": {
        "id": "dGV3Ou1MYdAi"
      },
      "execution_count": 6,
      "outputs": []
    },
    {
      "cell_type": "code",
      "source": [
        "from sklearn.model_selection import train_test_split"
      ],
      "metadata": {
        "id": "CjI0nxcPYovy"
      },
      "execution_count": 7,
      "outputs": []
    },
    {
      "cell_type": "code",
      "source": [
        "X_train, X_test, y_train, y_test = train_test_split(X,y, test_size=0.2,random_state=41)"
      ],
      "metadata": {
        "id": "9npsvX7XY0rl"
      },
      "execution_count": 8,
      "outputs": []
    },
    {
      "cell_type": "code",
      "source": [
        "X_train = torch.FloatTensor(X_train)\n",
        "X_train\n",
        "X_test = torch.FloatTensor(X_test)"
      ],
      "metadata": {
        "id": "tNF8iDFQahto"
      },
      "execution_count": 9,
      "outputs": []
    },
    {
      "cell_type": "code",
      "source": [
        "y_train = torch.LongTensor(y_train)\n",
        "y_test = torch.LongTensor(y_test)"
      ],
      "metadata": {
        "id": "KD9yK_Q7bACd"
      },
      "execution_count": 10,
      "outputs": []
    },
    {
      "cell_type": "code",
      "source": [
        "criterion = nn.CrossEntropyLoss()\n",
        "opt = torch.optim.Adam(model.parameters(),lr=0.01)"
      ],
      "metadata": {
        "id": "5ljWEHoVx9uz"
      },
      "execution_count": 11,
      "outputs": []
    },
    {
      "cell_type": "code",
      "source": [
        "epochs = 100\n",
        "losses = []\n",
        "\n",
        "for i in range(epochs):\n",
        "  y_pred = model.forward(X_train)\n",
        "  loss = criterion(y_pred,y_train)\n",
        "  losses.append(loss)\n",
        "  percentage_value = loss * 100\n",
        "  loss\n",
        "  per2 = float(percentage_value)\n",
        "  if i%10 == 0:\n",
        "    print(f\"Epoch: {i} Loss: {per2}'%\")\n",
        "  # set gradients to zero\n",
        "  opt.zero_grad()\n",
        "\n",
        "  # calculate the gradients\n",
        "  loss.backward()\n",
        "\n",
        "  # update the weights\n",
        "  opt.step()"
      ],
      "metadata": {
        "id": "ptMRWKCoiWTu"
      },
      "execution_count": null,
      "outputs": []
    }
  ]
}